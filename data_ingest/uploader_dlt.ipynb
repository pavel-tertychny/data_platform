{
 "cells": [
  {
   "cell_type": "code",
   "execution_count": 1,
   "metadata": {},
   "outputs": [],
   "source": [
    "import dlt\n",
    "import requests\n",
    "from datetime import datetime\n",
    "import os"
   ]
  },
  {
   "cell_type": "code",
   "execution_count": 2,
   "metadata": {},
   "outputs": [],
   "source": [
    "os.environ['DESTINATION__CLICKHOUSE__CREDENTIALS__HOST'] = '192.168.1.66:9000'\n",
    "os.environ['DESTINATION__CLICKHOUSE__CREDENTIALS__DATABASE'] = 'metrics'\n",
    "os.environ['DESTINATION__CLICKHOUSE__CREDENTIALS__USER'] = 'root'\n",
    "os.environ['DESTINATION__CLICKHOUSE__CREDENTIALS__PASSWORD'] = '020491'"
   ]
  },
  {
   "cell_type": "code",
   "execution_count": 3,
   "metadata": {},
   "outputs": [],
   "source": [
    "# Настройки\n",
    "url = 'https://api.appmetrica.yandex.ru/logs/v1/export/events.json'\n",
    "oauth_token = 'y0_AgAAAAAisvRKAAutVAAAAAEC7JiLAAAtHPjoix1FhahM1KuvZy5qiQ3ZvQ'\n",
    "headers = {'Authorization': f'OAuth {oauth_token}'}\n",
    "application_id = '3757420'\n",
    "fields = 'event_datetime,event_name,event_json,appmetrica_device_id,session_id'  # Укажите нужные поля"
   ]
  },
  {
   "cell_type": "code",
   "execution_count": 6,
   "metadata": {},
   "outputs": [
    {
     "ename": "",
     "evalue": "",
     "output_type": "error",
     "traceback": [
      "\u001b[1;31mThe Kernel crashed while executing code in the current cell or a previous cell. \n",
      "\u001b[1;31mPlease review the code in the cell(s) to identify a possible cause of the failure. \n",
      "\u001b[1;31mClick <a href='https://aka.ms/vscodeJupyterKernelCrash'>here</a> for more info. \n",
      "\u001b[1;31mView Jupyter <a href='command:jupyter.viewOutput'>log</a> for further details."
     ]
    }
   ],
   "source": [
    "date_since = datetime(2023, 12, 5)  # Начальная дата\n",
    "date_until = datetime(2023, 12, 10)  # Конечная дата\n",
    "\n",
    "start_date = date_since\n",
    "while start_date <= date_until:\n",
    "    fetch_data_for_day(start_date)\n",
    "    start_date += timedelta(days=1)"
   ]
  },
  {
   "cell_type": "code",
   "execution_count": 4,
   "metadata": {},
   "outputs": [],
   "source": [
    "pipeline = dlt.pipeline(\n",
    "    pipeline_name=\"app_to_clickhouse\",  # Имя конвейера\n",
    "    destination=\"clickhouse\",  # Целевое хранилище (ClickHouse)\n",
    "    dataset_name=\"metrica_events\"  # Имя набора данных\n",
    "    )"
   ]
  },
  {
   "cell_type": "code",
   "execution_count": 5,
   "metadata": {},
   "outputs": [],
   "source": [
    "# Функция для получения данных за один день\n",
    "def fetch_data_for_day(date):\n",
    "    params = {\n",
    "        'application_id': application_id,\n",
    "        'date_since': date.strftime('%Y-%m-%d'),\n",
    "        'date_until': date.strftime('%Y-%m-%d'),\n",
    "        'fields': fields\n",
    "    }\n",
    "    response = requests.get(url, params=params, headers=headers)\n",
    "    \n",
    "    if response.status_code == 202:\n",
    "        print(f\"Ожидаю 200 для даты {date}...\")\n",
    "        while response.status_code == 202:\n",
    "            print(response.status_code)\n",
    "            time.sleep(15)\n",
    "            response = requests.get(url, params=params, headers=headers)\n",
    "    \n",
    "    if response.status_code == 200:\n",
    "        print(f\"Загружаю данные за {date}...\")\n",
    "        data = response.json()\n",
    "        \n",
    "        batch_size = 1000  # Размер пакета\n",
    "        for i in range(0, len(data), batch_size):\n",
    "            batch = data[i:i + batch_size]\n",
    "            pipeline.run(batch, table_name=\"metrica_events\", write_disposition=\"append\")\n",
    "        del response\n",
    "        del data\n",
    "        gc.collect()\n",
    "\n",
    "    else:\n",
    "        print(f\"Ошибка для даты {date}: {response.status_code}\")"
   ]
  },
  {
   "cell_type": "code",
   "execution_count": null,
   "metadata": {},
   "outputs": [],
   "source": []
  }
 ],
 "metadata": {
  "kernelspec": {
   "display_name": "base",
   "language": "python",
   "name": "python3"
  },
  "language_info": {
   "codemirror_mode": {
    "name": "ipython",
    "version": 3
   },
   "file_extension": ".py",
   "mimetype": "text/x-python",
   "name": "python",
   "nbconvert_exporter": "python",
   "pygments_lexer": "ipython3",
   "version": "3.11.7"
  }
 },
 "nbformat": 4,
 "nbformat_minor": 2
}
